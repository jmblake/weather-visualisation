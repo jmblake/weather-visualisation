{
 "cells": [
  {
   "cell_type": "code",
   "execution_count": null,
   "metadata": {},
   "outputs": [],
   "source": [
    "import numpy as np\n",
    "import pandas as pd\n",
    "import json\n",
    "import matplotlib.pyplot as plt\n",
    "from mpl_toolkits.basemap import Basemap\n",
    "%matplotlib inline"
   ]
  },
  {
   "cell_type": "code",
   "execution_count": null,
   "metadata": {},
   "outputs": [],
   "source": [
    "## A deserialiser function to extract the fields of interest.\n",
    "## Not all of this data was used to create a visualisation, but all of it was explored.\n",
    "## Timestamp was discarded as all measurements were within three minutes of one another.\n",
    "\n",
    "def deserialise_line(record):\n",
    "    return (record[\"city\"][\"findname\"], record[\"city\"][\"coord\"][\"lon\"], record[\"city\"][\"coord\"][\"lat\"], record[\"main\"][\"pressure\"], record[\"main\"][\"humidity\"],record[\"main\"][\"temp_min\"], record[\"main\"][\"temp_max\"], record[\"wind\"][\"speed\"], record[\"clouds\"][\"all\"], [entry[\"main\"] for entry in record[\"weather\"]])"
   ]
  },
  {
   "cell_type": "code",
   "execution_count": null,
   "metadata": {},
   "outputs": [],
   "source": [
    "## Read and deserialise the json lines one-by-one.\n",
    "\n",
    "data = []\n",
    "with open(\"./weather.json\", encoding=\"utf8\") as f:\n",
    "    for line in f:\n",
    "        json_line = json.loads(line)\n",
    "        data.append(deserialise_line(json_line))"
   ]
  },
  {
   "cell_type": "code",
   "execution_count": null,
   "metadata": {},
   "outputs": [],
   "source": [
    "## Units were inferred from data exploration, as seen below.\n",
    "\n",
    "df = pd.DataFrame(data, columns=[\"city_name\", \"lon\", \"lat\", \"pressure(mb)\", \"humidity(%)\", \"temp_min(K)\", \"temp_max(K)\", \"wind_speed(m/s)\", \"cloud_cover(%)\", \"weather\"])"
   ]
  },
  {
   "cell_type": "code",
   "execution_count": null,
   "metadata": {},
   "outputs": [],
   "source": [
    "print(\"Average wind speed = \" + str(np.mean(df[\"wind_speed(m/s)\"]))) \n",
    "# Global average land wind speed is ~3.3m/s. Can infer m/s are the units.\n",
    "print(\"Maximum temperature = \" + str(np.max(df[\"temp_max(K)\"])))\n",
    "# These temperature units are certainly given in Kelvin"
   ]
  },
  {
   "cell_type": "code",
   "execution_count": null,
   "metadata": {},
   "outputs": [],
   "source": [
    "df.head()"
   ]
  },
  {
   "cell_type": "code",
   "execution_count": null,
   "metadata": {},
   "outputs": [],
   "source": [
    "## Check to see which values occur in the \"weather\" entities.\n",
    "\n",
    "from itertools import chain\n",
    "from collections import Counter\n",
    "array = df[\"weather\"]\n",
    "print(Counter(chain(*array)))"
   ]
  },
  {
   "cell_type": "code",
   "execution_count": null,
   "metadata": {},
   "outputs": [],
   "source": [
    "## Create a score of the severity for the weather conditions.\n",
    "## The selection below is exhausitive.\n",
    "\n",
    "weather_severity = {\n",
    " 'Haze': 0, \n",
    " 'Sand': 2, \n",
    " 'Drizzle': 1, \n",
    " 'Clouds': 0, \n",
    " 'Dust': 1, \n",
    " 'Smoke': 1,\n",
    " 'Mist': 0, \n",
    " 'Fog': 3, \n",
    " 'Clear': 0, \n",
    " 'Thunderstorm': 4,\n",
    " 'Rain': 2, \n",
    " 'Snow': 4\n",
    "}\n",
    "\n",
    "def score_weather(weather):  # takes list\n",
    "    weather_scores = []\n",
    "    for record in weather:\n",
    "        weather_scores.append(weather_severity[record])\n",
    "    return max(weather_scores)\n",
    "\n",
    "df[\"weather_score\"] = [score_weather(i) for i in df[\"weather\"]]"
   ]
  },
  {
   "cell_type": "code",
   "execution_count": null,
   "metadata": {},
   "outputs": [],
   "source": [
    "## This is a heatmap of weather stations locations\n",
    "\n",
    "# inspired by: https://stackoverflow.com/questions/46620984/how-to-draw-scatter-plot-on-top-of-background-using-basemap-python\n",
    "# n.b. the dedent function from matplotlib, called implicitly below, is deprecated\n",
    "\n",
    "fig = plt.gcf()\n",
    "fig.set_size_inches(8, 6.5)\n",
    "\n",
    "m = Basemap(projection='merc', \n",
    "            llcrnrlat=-80, urcrnrlat=80, \n",
    "            llcrnrlon=-180, urcrnrlon=180, \n",
    "            lat_ts=20, \n",
    "            resolution='c')\n",
    "\n",
    "m.shadedrelief(scale=0.2)   # full scale will be overkill\n",
    "m.drawcoastlines(color='white', linewidth=0.2)  # add coastlines\n",
    "\n",
    "x, y = m(df[\"lon\"].tolist(), df[\"lat\"].tolist())  # transform coordinates\n",
    "plt.scatter(x, y, 10, marker='o', color='r', alpha=0.05) \n",
    "\n",
    "plt.show()"
   ]
  },
  {
   "cell_type": "code",
   "execution_count": null,
   "metadata": {
    "scrolled": false
   },
   "outputs": [],
   "source": [
    "## This plots a heatmap of weather stations coloured by the severity of reported weather.\n",
    "\n",
    "# inspired by: https://stackoverflow.com/questions/46620984/how-to-draw-scatter-plot-on-top-of-background-using-basemap-python\n",
    "# n.b. the dedent function from matplotlib, called implicitly below, is deprecated\n",
    "\n",
    "fig = plt.gcf()\n",
    "fig.set_size_inches(16, 13)\n",
    "\n",
    "m = Basemap(projection='merc', \n",
    "            llcrnrlat=-80, urcrnrlat=80, \n",
    "            llcrnrlon=-180, urcrnrlon=180, \n",
    "            lat_ts=20, \n",
    "            resolution='c')\n",
    "\n",
    "m.shadedrelief(scale=0.2)   # full scale will be overkill\n",
    "m.drawcoastlines(color='white', linewidth=0.2)  # add coastlines\n",
    "\n",
    "x_red, y_red = m(df[df[\"weather_score\"] >= 3][\"lon\"].tolist(), df[df[\"weather_score\"] >= 3][\"lat\"].tolist())  # transform coordinates\n",
    "plt.scatter(x_red, y_red, 10, marker='o', color='r', alpha=1, label=\"Severe\")\n",
    "x_orange, y_orange = m(df[df[\"weather_score\"] == 2][\"lon\"].tolist(), df[df[\"weather_score\"] == 2][\"lat\"].tolist())  # transform coordinates\n",
    "plt.scatter(x_orange, y_orange, 10, marker='o', color='orange', alpha=0.5, label=\"Strong\")\n",
    "x_yellow, y_yellow = m(df[df[\"weather_score\"]==1][\"lon\"].tolist(), df[df[\"weather_score\"] == 1][\"lat\"].tolist())  # transform coordinates\n",
    "plt.scatter(x_yellow, y_yellow, 10, marker='o', color='yellow', alpha=0.4, label=\"Moderate\")\n",
    "x_green, y_green = m(df[df[\"weather_score\"] == 0][\"lon\"].tolist(), df[df[\"weather_score\"] == 0][\"lat\"].tolist())  # transform coordinates\n",
    "plt.scatter(x_orange, y_orange, 10, marker='o', color='green', alpha=0.3, label=\"Calm\")\n",
    "\n",
    "plt.legend()\n",
    "\n",
    "plt.show()"
   ]
  }
 ],
 "metadata": {
  "kernelspec": {
   "display_name": "Python 3",
   "language": "python",
   "name": "python3"
  },
  "language_info": {
   "codemirror_mode": {
    "name": "ipython",
    "version": 3
   },
   "file_extension": ".py",
   "mimetype": "text/x-python",
   "name": "python",
   "nbconvert_exporter": "python",
   "pygments_lexer": "ipython3",
   "version": "3.6.5"
  }
 },
 "nbformat": 4,
 "nbformat_minor": 4
}
